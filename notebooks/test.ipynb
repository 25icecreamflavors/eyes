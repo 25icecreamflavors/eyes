{
 "cells": [
  {
   "cell_type": "code",
   "execution_count": 1,
   "id": "9f71fa4c-dbe5-4472-90b2-d80c5f54c9b5",
   "metadata": {},
   "outputs": [],
   "source": [
    "import os\n",
    "import sys\n",
    "\n",
    "# Get the absolute path to the project's root directory\n",
    "root_dir = os.path.dirname(os.path.abspath(\"\"))\n",
    "\n",
    "# Add the project's root directory to sys.path\n",
    "sys.path.append(root_dir)"
   ]
  },
  {
   "cell_type": "code",
   "execution_count": 2,
   "id": "6cf4fc9a-0d32-4fb9-98aa-344c26a3f9ba",
   "metadata": {},
   "outputs": [
    {
     "name": "stderr",
     "output_type": "stream",
     "text": [
      "/home/aashirnin/.conda/envs/eyes/lib/python3.7/site-packages/tqdm/auto.py:21: TqdmWarning: IProgress not found. Please update jupyter and ipywidgets. See https://ipywidgets.readthedocs.io/en/stable/user_install.html\n",
      "  from .autonotebook import tqdm as notebook_tqdm\n"
     ]
    }
   ],
   "source": [
    "from utils.validation.folds_split import split_data_on_folds\n",
    "from utils.data.dataset import EyesDataset"
   ]
  },
  {
   "cell_type": "code",
   "execution_count": 3,
   "id": "b78204a1-4607-4caf-bc04-0f90386b14a6",
   "metadata": {},
   "outputs": [],
   "source": [
    "# Prepare a small subset of data for testing\n",
    "test_img_dir = \"/home/aashirnin/eyes/eyes/data/1-Hypertensive Classification/1-Images/1-Training Set\"\n",
    "test_annotations_file = \"/home/aashirnin/eyes/eyes/data/1-Hypertensive Classification/2-Groundtruths/HRDC Hypertensive Classification Training Labels.csv\""
   ]
  },
  {
   "cell_type": "code",
   "execution_count": 4,
   "id": "18570e1d-b73a-48b6-915a-d29b9ffb6bd1",
   "metadata": {},
   "outputs": [],
   "source": [
    "# Instantiate the dataset\n",
    "test_dataset = EyesDataset(test_img_dir, test_annotations_file, mode='train')"
   ]
  },
  {
   "cell_type": "code",
   "execution_count": 5,
   "id": "3aa45a5b-9c73-4969-9639-948aa93e42f7",
   "metadata": {},
   "outputs": [
    {
     "name": "stdout",
     "output_type": "stream",
     "text": [
      "Sample image shape: torch.Size([3, 800, 800])\n",
      "Sample label: tensor(0)\n",
      "Dataset length: 712\n"
     ]
    }
   ],
   "source": [
    "# Instantiate the dataset\n",
    "test_dataset = EyesDataset(test_img_dir, test_annotations_file, mode='train')\n",
    "\n",
    "# Access a sample from the dataset\n",
    "sample_idx = 0\n",
    "sample_image, sample_label = test_dataset[sample_idx]\n",
    "\n",
    "# Verify the output\n",
    "print(\"Sample image shape:\", sample_image.shape)\n",
    "print(\"Sample label:\", sample_label)\n",
    "\n",
    "# Verify the dataset length\n",
    "print(\"Dataset length:\", len(test_dataset))"
   ]
  }
 ],
 "metadata": {
  "kernelspec": {
   "display_name": "Python [.conda-eyes]",
   "language": "python",
   "name": "conda-env-.conda-eyes-py"
  },
  "language_info": {
   "codemirror_mode": {
    "name": "ipython",
    "version": 3
   },
   "file_extension": ".py",
   "mimetype": "text/x-python",
   "name": "python",
   "nbconvert_exporter": "python",
   "pygments_lexer": "ipython3",
   "version": "3.7.3"
  },
  "widgets": {
   "application/vnd.jupyter.widget-state+json": {
    "state": {},
    "version_major": 2,
    "version_minor": 0
   }
  }
 },
 "nbformat": 4,
 "nbformat_minor": 5
}
